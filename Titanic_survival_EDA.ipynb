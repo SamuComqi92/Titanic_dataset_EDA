{
 "cells": [
  {
   "cell_type": "markdown",
   "id": "8599b74c",
   "metadata": {},
   "source": [
    "# **TITANIC DATASET: EXPLORATORY DATA ANALYSIS**\n",
    "\n",
    "This is the classic dataset that everyone uses for a (first) simple approach to Machine Learning.\n",
    "\n",
    ".\n",
    "\n",
    ".\n",
    "\n",
    "\n",
    "## **Import libraries and data**"
   ]
  },
  {
   "cell_type": "code",
   "execution_count": 1,
   "id": "d8380bde",
   "metadata": {},
   "outputs": [],
   "source": [
    "#Importing libraries\n",
    "import random\n",
    "import pycaret\n",
    "import numpy as np\n",
    "import pandas as pd\n",
    "import seaborn as sn\n",
    "import matplotlib.pyplot as plt\n",
    "from scipy.stats import skew"
   ]
  },
  {
   "cell_type": "code",
   "execution_count": 2,
   "id": "9172a530",
   "metadata": {},
   "outputs": [
    {
     "data": {
      "text/html": [
       "<div>\n",
       "<style scoped>\n",
       "    .dataframe tbody tr th:only-of-type {\n",
       "        vertical-align: middle;\n",
       "    }\n",
       "\n",
       "    .dataframe tbody tr th {\n",
       "        vertical-align: top;\n",
       "    }\n",
       "\n",
       "    .dataframe thead th {\n",
       "        text-align: right;\n",
       "    }\n",
       "</style>\n",
       "<table border=\"1\" class=\"dataframe\">\n",
       "  <thead>\n",
       "    <tr style=\"text-align: right;\">\n",
       "      <th></th>\n",
       "      <th>Pclass</th>\n",
       "      <th>Survived</th>\n",
       "      <th>Name</th>\n",
       "      <th>Sex</th>\n",
       "      <th>Age</th>\n",
       "      <th>Sibsp</th>\n",
       "      <th>Parch</th>\n",
       "      <th>Ticket</th>\n",
       "      <th>Fare</th>\n",
       "      <th>Cabin</th>\n",
       "      <th>Embarked</th>\n",
       "      <th>Boat</th>\n",
       "      <th>Body</th>\n",
       "      <th>Home_det</th>\n",
       "    </tr>\n",
       "  </thead>\n",
       "  <tbody>\n",
       "    <tr>\n",
       "      <th>0</th>\n",
       "      <td>1</td>\n",
       "      <td>1</td>\n",
       "      <td>Allen, Miss. Elisabeth Walton</td>\n",
       "      <td>female</td>\n",
       "      <td>29.00</td>\n",
       "      <td>0</td>\n",
       "      <td>0</td>\n",
       "      <td>24160</td>\n",
       "      <td>211.3375</td>\n",
       "      <td>B5</td>\n",
       "      <td>S</td>\n",
       "      <td>2</td>\n",
       "      <td>NaN</td>\n",
       "      <td>St Louis, MO</td>\n",
       "    </tr>\n",
       "    <tr>\n",
       "      <th>1</th>\n",
       "      <td>1</td>\n",
       "      <td>1</td>\n",
       "      <td>Allison, Master. Hudson Trevor</td>\n",
       "      <td>male</td>\n",
       "      <td>0.92</td>\n",
       "      <td>1</td>\n",
       "      <td>2</td>\n",
       "      <td>113781</td>\n",
       "      <td>151.5500</td>\n",
       "      <td>C22 C26</td>\n",
       "      <td>S</td>\n",
       "      <td>11</td>\n",
       "      <td>NaN</td>\n",
       "      <td>Montreal, PQ / Chesterville, ON</td>\n",
       "    </tr>\n",
       "    <tr>\n",
       "      <th>2</th>\n",
       "      <td>1</td>\n",
       "      <td>0</td>\n",
       "      <td>Allison, Miss. Helen Loraine</td>\n",
       "      <td>female</td>\n",
       "      <td>2.00</td>\n",
       "      <td>1</td>\n",
       "      <td>2</td>\n",
       "      <td>113781</td>\n",
       "      <td>151.5500</td>\n",
       "      <td>C22 C26</td>\n",
       "      <td>S</td>\n",
       "      <td>NaN</td>\n",
       "      <td>NaN</td>\n",
       "      <td>Montreal, PQ / Chesterville, ON</td>\n",
       "    </tr>\n",
       "    <tr>\n",
       "      <th>3</th>\n",
       "      <td>1</td>\n",
       "      <td>0</td>\n",
       "      <td>Allison, Mr. Hudson Joshua Creighton</td>\n",
       "      <td>male</td>\n",
       "      <td>30.00</td>\n",
       "      <td>1</td>\n",
       "      <td>2</td>\n",
       "      <td>113781</td>\n",
       "      <td>151.5500</td>\n",
       "      <td>C22 C26</td>\n",
       "      <td>S</td>\n",
       "      <td>NaN</td>\n",
       "      <td>135.0</td>\n",
       "      <td>Montreal, PQ / Chesterville, ON</td>\n",
       "    </tr>\n",
       "    <tr>\n",
       "      <th>4</th>\n",
       "      <td>1</td>\n",
       "      <td>0</td>\n",
       "      <td>Allison, Mrs. Hudson J C (Bessie Waldo Daniels)</td>\n",
       "      <td>female</td>\n",
       "      <td>25.00</td>\n",
       "      <td>1</td>\n",
       "      <td>2</td>\n",
       "      <td>113781</td>\n",
       "      <td>151.5500</td>\n",
       "      <td>C22 C26</td>\n",
       "      <td>S</td>\n",
       "      <td>NaN</td>\n",
       "      <td>NaN</td>\n",
       "      <td>Montreal, PQ / Chesterville, ON</td>\n",
       "    </tr>\n",
       "  </tbody>\n",
       "</table>\n",
       "</div>"
      ],
      "text/plain": [
       "   Pclass  Survived                                             Name     Sex  \\\n",
       "0       1         1                    Allen, Miss. Elisabeth Walton  female   \n",
       "1       1         1                   Allison, Master. Hudson Trevor    male   \n",
       "2       1         0                     Allison, Miss. Helen Loraine  female   \n",
       "3       1         0             Allison, Mr. Hudson Joshua Creighton    male   \n",
       "4       1         0  Allison, Mrs. Hudson J C (Bessie Waldo Daniels)  female   \n",
       "\n",
       "     Age  Sibsp  Parch  Ticket      Fare    Cabin Embarked Boat   Body  \\\n",
       "0  29.00      0      0   24160  211.3375       B5        S    2    NaN   \n",
       "1   0.92      1      2  113781  151.5500  C22 C26        S   11    NaN   \n",
       "2   2.00      1      2  113781  151.5500  C22 C26        S  NaN    NaN   \n",
       "3  30.00      1      2  113781  151.5500  C22 C26        S  NaN  135.0   \n",
       "4  25.00      1      2  113781  151.5500  C22 C26        S  NaN    NaN   \n",
       "\n",
       "                          Home_det  \n",
       "0                     St Louis, MO  \n",
       "1  Montreal, PQ / Chesterville, ON  \n",
       "2  Montreal, PQ / Chesterville, ON  \n",
       "3  Montreal, PQ / Chesterville, ON  \n",
       "4  Montreal, PQ / Chesterville, ON  "
      ]
     },
     "execution_count": 2,
     "metadata": {},
     "output_type": "execute_result"
    }
   ],
   "source": [
    "#Importing the data\n",
    "Data = pd.read_csv(\"all_titanic_data.csv\")\n",
    "Data.head()"
   ]
  },
  {
   "cell_type": "markdown",
   "id": "06ec30f5-dc6b-4651-bf46-6393b073994c",
   "metadata": {},
   "source": [
    ".\n",
    "\n",
    "The Titanic dataset contains information about the passengers (e.g., age, sex, class on the ship,...)."
   ]
  },
  {
   "cell_type": "code",
   "execution_count": 3,
   "id": "0d2df476",
   "metadata": {},
   "outputs": [
    {
     "name": "stdout",
     "output_type": "stream",
     "text": [
      "<class 'pandas.core.frame.DataFrame'>\n",
      "RangeIndex: 1309 entries, 0 to 1308\n",
      "Data columns (total 14 columns):\n",
      " #   Column    Non-Null Count  Dtype  \n",
      "---  ------    --------------  -----  \n",
      " 0   Pclass    1309 non-null   int64  \n",
      " 1   Survived  1309 non-null   int64  \n",
      " 2   Name      1309 non-null   object \n",
      " 3   Sex       1309 non-null   object \n",
      " 4   Age       1046 non-null   float64\n",
      " 5   Sibsp     1309 non-null   int64  \n",
      " 6   Parch     1309 non-null   int64  \n",
      " 7   Ticket    1309 non-null   object \n",
      " 8   Fare      1308 non-null   float64\n",
      " 9   Cabin     295 non-null    object \n",
      " 10  Embarked  1307 non-null   object \n",
      " 11  Boat      486 non-null    object \n",
      " 12  Body      121 non-null    float64\n",
      " 13  Home_det  745 non-null    object \n",
      "dtypes: float64(3), int64(4), object(7)\n",
      "memory usage: 143.3+ KB\n"
     ]
    }
   ],
   "source": [
    "#Data information\n",
    "Data.info()"
   ]
  },
  {
   "cell_type": "markdown",
   "id": "b1fe6204",
   "metadata": {},
   "source": [
    ".\n",
    "\n",
    "There are several missing values (in columns \"Age\", \"Fare\", \"Cabin\",\"Embarked\",\"boat\",\"Body\",\"Home_det\").\n",
    "\n",
    ".\n",
    "\n",
    ".\n",
    "\n",
    "The features inside the dataset are the following:\n",
    "1. *Pclass*: it is the class of the passenger (integer -- 1: first class, 2: second class, 3: third class)\n",
    "2. *Survived*: it is the column containing the label 1 (survived) and 0 (dead)\n",
    "3. *Name*: name of the passenger (string)\n",
    "4. *Sex*: sex of the passenger (string -- male, female)\n",
    "5. *Age*: age of the passenger (float)\n",
    "6. *Sibsp*: number of siblings/spouses aboard (integer)\n",
    "7. *Parch*: number of parents/children aboard (integer)\n",
    "8. *Ticket*: number of the ticket (string)\n",
    "9. *Fare*: passenger fare (float)\n",
    "10. *Cabin*: cabin(s) of the passenger (float)\n",
    "11. *Embarked*: port of embarkation (string -- C: Cherbourg, Q: Queenstown, S: Southampton)\n",
    "12. *Boat*: number of the lifeboat (integer)\n",
    "13. *Body*: number of the corpse in order of finding\n",
    "14. *Home_det*: home and destination of the passenger\n",
    "\n",
    "\n",
    "Let's start the analysis of the dataset.\n",
    "\n",
    ".\n",
    "\n",
    ".\n",
    "\n",
    "## **Data Analysis and exploration**"
   ]
  },
  {
   "cell_type": "code",
   "execution_count": 4,
   "id": "230c48ae-bdb7-4b7e-9751-fa390cba1d1e",
   "metadata": {},
   "outputs": [
    {
     "data": {
      "text/plain": [
       "<matplotlib.legend.Legend at 0x7f54f3728da0>"
      ]
     },
     "execution_count": 4,
     "metadata": {},
     "output_type": "execute_result"
    },
    {
     "data": {
      "image/png": "[encoded data removed]",
      "text/plain": [
       "<Figure size 432x288 with 1 Axes>"
      ]
     },
     "metadata": {
      "needs_background": "light"
     },
     "output_type": "display_data"
    }
   ],
   "source": [
    "#Pclass\n",
    "sn.countplot(x=Data.Pclass, hue=Data.Survived)\n",
    "plt.xticks([0, 1, 2], ['First', 'Second', 'Third'])\n",
    "plt.legend([\"Deceased\",\"Survived\"])"
   ]
  },
  {
   "cell_type": "markdown",
   "id": "96bd4c40-a699-460e-abe1-6df60780dae4",
   "metadata": {},
   "source": [
    ".\n",
    "\n",
    "It seems that the lower the class, the larger the percentage of people who did not survived. Of course, this can be related to the fact that most of the passengers were in the third class."
   ]
  },
  {
   "cell_type": "code",
   "execution_count": 5,
   "id": "4af56dff-b31f-4c5a-96e6-a4a706a58cbb",
   "metadata": {},
   "outputs": [
    {
     "data": {
      "text/html": [
       "<div>\n",
       "<style scoped>\n",
       "    .dataframe tbody tr th:only-of-type {\n",
       "        vertical-align: middle;\n",
       "    }\n",
       "\n",
       "    .dataframe tbody tr th {\n",
       "        vertical-align: top;\n",
       "    }\n",
       "\n",
       "    .dataframe thead th {\n",
       "        text-align: right;\n",
       "    }\n",
       "</style>\n",
       "<table border=\"1\" class=\"dataframe\">\n",
       "  <thead>\n",
       "    <tr style=\"text-align: right;\">\n",
       "      <th></th>\n",
       "      <th></th>\n",
       "      <th>Pclass</th>\n",
       "    </tr>\n",
       "    <tr>\n",
       "      <th>Survived</th>\n",
       "      <th>Pclass</th>\n",
       "      <th></th>\n",
       "    </tr>\n",
       "  </thead>\n",
       "  <tbody>\n",
       "    <tr>\n",
       "      <th rowspan=\"3\" valign=\"top\">0</th>\n",
       "      <th>3</th>\n",
       "      <td>528</td>\n",
       "    </tr>\n",
       "    <tr>\n",
       "      <th>2</th>\n",
       "      <td>158</td>\n",
       "    </tr>\n",
       "    <tr>\n",
       "      <th>1</th>\n",
       "      <td>123</td>\n",
       "    </tr>\n",
       "    <tr>\n",
       "      <th rowspan=\"3\" valign=\"top\">1</th>\n",
       "      <th>1</th>\n",
       "      <td>200</td>\n",
       "    </tr>\n",
       "    <tr>\n",
       "      <th>3</th>\n",
       "      <td>181</td>\n",
       "    </tr>\n",
       "    <tr>\n",
       "      <th>2</th>\n",
       "      <td>119</td>\n",
       "    </tr>\n",
       "  </tbody>\n",
       "</table>\n",
       "</div>"
      ],
      "text/plain": [
       "                 Pclass\n",
       "Survived Pclass        \n",
       "0        3          528\n",
       "         2          158\n",
       "         1          123\n",
       "1        1          200\n",
       "         3          181\n",
       "         2          119"
      ]
     },
     "execution_count": 5,
     "metadata": {},
     "output_type": "execute_result"
    }
   ],
   "source": [
    "#Count\n",
    "pd.DataFrame(Data.groupby(\"Survived\").Pclass.value_counts())"
   ]
  },
  {
   "cell_type": "markdown",
   "id": "6ffc52d5-02b7-474f-809e-2288fae07eb7",
   "metadata": {},
   "source": [
    ".\n",
    "\n",
    "The percentage of third class people who did not survive (label 0) is ~40% (almost half of the total number of people on board).\n",
    "\n",
    "Moreover, the number of third class people who did not survive is ~2.9 times larger than the number of people who survived (compared to ~0.6 for first class, and ~1.3 for second class)."
   ]
  },
  {
   "cell_type": "code",
   "execution_count": 6,
   "id": "f2e4371e-8ef0-475b-a294-3fc1adb5563c",
   "metadata": {},
   "outputs": [
    {
     "name": "stdout",
     "output_type": "stream",
     "text": [
      "Number of male passengers:  843\n",
      "Number of female passengers:  466\n"
     ]
    },
    {
     "data": {
      "text/plain": [
       "<matplotlib.legend.Legend at 0x7f54f2fa74a8>"
      ]
     },
     "execution_count": 6,
     "metadata": {},
     "output_type": "execute_result"
    },
    {
     "data": {
      "image/png": "[encoded data removed]",
      "text/plain": [
       "<Figure size 432x288 with 1 Axes>"
      ]
     },
     "metadata": {
      "needs_background": "light"
     },
     "output_type": "display_data"
    }
   ],
   "source": [
    "#Sex\n",
    "print(\"Number of male passengers: \", (Data.Sex==\"male\").sum())\n",
    "print(\"Number of female passengers: \", (Data.Sex==\"female\").sum())\n",
    "\n",
    "sn.countplot(x=Data.Sex, hue=Data.Survived)\n",
    "plt.xticks([0, 1], ['Female', 'Male'])\n",
    "plt.legend([\"Deceased\",\"Survived\"])"
   ]
  },
  {
   "cell_type": "markdown",
   "id": "ed606a91-7b7e-442d-863d-21f9215889b3",
   "metadata": {},
   "source": [
    ".\n",
    "\n",
    "The majority of survivors were females (the first to leave the ship were women and children.)"
   ]
  },
  {
   "cell_type": "code",
   "execution_count": 7,
   "id": "fd1ed7f0-5152-4973-839d-6d30d72d7419",
   "metadata": {},
   "outputs": [
    {
     "data": {
      "text/plain": [
       "array([' Miss', ' Master', ' Mr', ' Mrs', ' Col', ' Mme', ' Dr', ' Major',\n",
       "       ' Capt', ' Lady', ' Sir', ' Mlle', ' Dona', ' Jonkheer',\n",
       "       ' the Countess', ' Don', ' Rev', ' Ms'], dtype=object)"
      ]
     },
     "execution_count": 7,
     "metadata": {},
     "output_type": "execute_result"
    }
   ],
   "source": [
    "#Name\n",
    "#Separate the first part of the name from the rest (there is a comma between the two parts)\n",
    "Names = Data.Name.str.split(\",\", expand=True)\n",
    "\n",
    "#Separate the title from the rest (there is a dot between the two parts)\n",
    "Names= Names.iloc[:,1].str.split(\".\", expand=True)\n",
    "\n",
    "#Get the titles\n",
    "Titles = Names.iloc[:,0]\n",
    "\n",
    "#Unique values\n",
    "Titles.unique()"
   ]
  },
  {
   "cell_type": "markdown",
   "id": "1cdecb2f-0414-4170-94b9-6f2cc8bdbc93",
   "metadata": {},
   "source": [
    ".\n",
    "\n",
    "There are several titles that may be connected to the chance of survival."
   ]
  },
  {
   "cell_type": "code",
   "execution_count": 8,
   "id": "2f898fda-8895-4b84-83fb-5aceb0060427",
   "metadata": {},
   "outputs": [
    {
     "data": {
      "text/plain": [
       "<matplotlib.legend.Legend at 0x7f54f2ea3860>"
      ]
     },
     "execution_count": 8,
     "metadata": {},
     "output_type": "execute_result"
    },
    {
     "data": {
      "image/png": "[encoded data removed]",
      "text/plain": [
       "<Figure size 1800x360 with 1 Axes>"
      ]
     },
     "metadata": {
      "needs_background": "light"
     },
     "output_type": "display_data"
    }
   ],
   "source": [
    "Data[\"Title\"] = Data.Name.map(lambda p: p.split(\", \")[1].split(\".\")[0])\n",
    "\n",
    "plt.figure(figsize=(25,5))\n",
    "sn.countplot(x=Data.Title, hue=Data.Survived)\n",
    "plt.legend([\"Deceased\",\"Survived\"],loc=\"upper center\")"
   ]
  },
  {
   "cell_type": "markdown",
   "id": "43267c16-eb86-4e96-b3ca-af15344d7905",
   "metadata": {},
   "source": [
    ".\n",
    "\n",
    "The majority of survivors were females (Miss, Mrs, Lady, Mlle, Countess).\n",
    "\n",
    "Half of the people with the title \"Master\" survived. Only ~1/6 of \"Mr\"s survived.\n",
    "\n",
    "All the other did not survive."
   ]
  },
  {
   "cell_type": "code",
   "execution_count": 9,
   "id": "67788dc4-a050-4205-9d0e-96f8319d9b56",
   "metadata": {},
   "outputs": [
    {
     "name": "stdout",
     "output_type": "stream",
     "text": [
      "Age mean value:  29.881137667304014\n",
      "Age median value:  28.0\n"
     ]
    },
    {
     "data": {
      "text/plain": [
       "([<matplotlib.axis.XTick at 0x7f54f2c03e48>,\n",
       "  <matplotlib.axis.XTick at 0x7f54f2c03860>],\n",
       " [Text(0, 0, 'No'), Text(1, 0, 'Yes')])"
      ]
     },
     "execution_count": 9,
     "metadata": {},
     "output_type": "execute_result"
    },
    {
     "data": {
      "image/png": "[encoded data removed]",
      "text/plain": [
       "<Figure size 1080x288 with 2 Axes>"
      ]
     },
     "metadata": {
      "needs_background": "light"
     },
     "output_type": "display_data"
    }
   ],
   "source": [
    "#Age\n",
    "print(\"Age mean value: \", Data.Age.mean())\n",
    "print(\"Age median value: \", Data.Age.median())\n",
    "\n",
    "plt.figure(figsize=(15,4))\n",
    "plt.subplot(1,2,1)\n",
    "ax = sn.histplot(data=Data, x=\"Age\", stat=\"density\", bins=20, label=\"Histogram\")\n",
    "sn.kdeplot(data=Data, x=\"Age\", color='red', lw=4, ax=ax, label=\"Kde distribution\")\n",
    "plt.plot([Data.Age.mean(),Data.Age.mean()],[0,0.06], '--g', lw=3, label=\"Mean value\")\n",
    "plt.ylim([0,0.045])\n",
    "plt.title(\"Skewness: {:.2f}\".format(skew(Data.Age, nan_policy =\"omit\")))\n",
    "plt.legend()\n",
    "\n",
    "plt.subplot(1,2,2)\n",
    "sn.violinplot(x=Data.Survived,y=Data.Age)\n",
    "plt.xticks([0,1],[\"No\",\"Yes\"])"
   ]
  },
  {
   "cell_type": "markdown",
   "id": "07a9c1e4-d467-4260-a41e-711813628602",
   "metadata": {},
   "source": [
    ".\n",
    "\n",
    "The distributions of survived and non-survived people are similar."
   ]
  },
  {
   "cell_type": "code",
   "execution_count": 10,
   "id": "cc038fd1-c8f6-4614-a601-e75502527e44",
   "metadata": {},
   "outputs": [
    {
     "data": {
      "text/plain": [
       "<matplotlib.legend.Legend at 0x7f54f2b309e8>"
      ]
     },
     "execution_count": 10,
     "metadata": {},
     "output_type": "execute_result"
    },
    {
     "data": {
      "image/png": "[encoded data removed]",
      "text/plain": [
       "<Figure size 720x216 with 1 Axes>"
      ]
     },
     "metadata": {
      "needs_background": "light"
     },
     "output_type": "display_data"
    },
    {
     "data": {
      "image/png": "[encoded data removed]",
      "text/plain": [
       "<Figure size 720x216 with 1 Axes>"
      ]
     },
     "metadata": {
      "needs_background": "light"
     },
     "output_type": "display_data"
    }
   ],
   "source": [
    "#Sibsp & Parch   \n",
    "plt.figure(figsize=(10,3))\n",
    "\n",
    "plt.plot(1,2,1)\n",
    "sn.countplot(x=Data.Sibsp, hue=Data.Survived)\n",
    "plt.legend([\"Deceased\",\"Survived\"],loc=\"upper right\")\n",
    "\n",
    "plt.figure(figsize=(10,3))\n",
    "plt.plot(1,2,2)\n",
    "sn.countplot(x=Data.Parch, hue=Data.Survived)\n",
    "plt.legend([\"Deceased\",\"Survived\"],loc=\"upper right\")"
   ]
  },
  {
   "cell_type": "markdown",
   "id": "0ab13b95-8284-4f5b-8bd6-6e1ea2e90043",
   "metadata": {},
   "source": [
    ".\n",
    "\n",
    "It seems that, alone passengers have a larger chance to survive."
   ]
  },
  {
   "cell_type": "code",
   "execution_count": 11,
   "id": "b5a4ce8f-338b-4e9d-a4f6-506f07ea0bac",
   "metadata": {},
   "outputs": [
    {
     "data": {
      "text/html": [
       "<div>\n",
       "<style scoped>\n",
       "    .dataframe tbody tr th:only-of-type {\n",
       "        vertical-align: middle;\n",
       "    }\n",
       "\n",
       "    .dataframe tbody tr th {\n",
       "        vertical-align: top;\n",
       "    }\n",
       "\n",
       "    .dataframe thead th {\n",
       "        text-align: right;\n",
       "    }\n",
       "</style>\n",
       "<table border=\"1\" class=\"dataframe\">\n",
       "  <thead>\n",
       "    <tr style=\"text-align: right;\">\n",
       "      <th></th>\n",
       "      <th></th>\n",
       "      <th>Tot_people</th>\n",
       "    </tr>\n",
       "    <tr>\n",
       "      <th>Survived</th>\n",
       "      <th>Tot_people</th>\n",
       "      <th></th>\n",
       "    </tr>\n",
       "  </thead>\n",
       "  <tbody>\n",
       "    <tr>\n",
       "      <th rowspan=\"9\" valign=\"top\">0</th>\n",
       "      <th>0</th>\n",
       "      <td>551</td>\n",
       "    </tr>\n",
       "    <tr>\n",
       "      <th>1</th>\n",
       "      <td>109</td>\n",
       "    </tr>\n",
       "    <tr>\n",
       "      <th>2</th>\n",
       "      <td>69</td>\n",
       "    </tr>\n",
       "    <tr>\n",
       "      <th>5</th>\n",
       "      <td>20</td>\n",
       "    </tr>\n",
       "    <tr>\n",
       "      <th>4</th>\n",
       "      <td>16</td>\n",
       "    </tr>\n",
       "    <tr>\n",
       "      <th>3</th>\n",
       "      <td>13</td>\n",
       "    </tr>\n",
       "    <tr>\n",
       "      <th>6</th>\n",
       "      <td>12</td>\n",
       "    </tr>\n",
       "    <tr>\n",
       "      <th>10</th>\n",
       "      <td>11</td>\n",
       "    </tr>\n",
       "    <tr>\n",
       "      <th>7</th>\n",
       "      <td>8</td>\n",
       "    </tr>\n",
       "    <tr>\n",
       "      <th rowspan=\"7\" valign=\"top\">1</th>\n",
       "      <th>0</th>\n",
       "      <td>239</td>\n",
       "    </tr>\n",
       "    <tr>\n",
       "      <th>1</th>\n",
       "      <td>126</td>\n",
       "    </tr>\n",
       "    <tr>\n",
       "      <th>2</th>\n",
       "      <td>90</td>\n",
       "    </tr>\n",
       "    <tr>\n",
       "      <th>3</th>\n",
       "      <td>30</td>\n",
       "    </tr>\n",
       "    <tr>\n",
       "      <th>4</th>\n",
       "      <td>6</td>\n",
       "    </tr>\n",
       "    <tr>\n",
       "      <th>5</th>\n",
       "      <td>5</td>\n",
       "    </tr>\n",
       "    <tr>\n",
       "      <th>6</th>\n",
       "      <td>4</td>\n",
       "    </tr>\n",
       "  </tbody>\n",
       "</table>\n",
       "</div>"
      ],
      "text/plain": [
       "                     Tot_people\n",
       "Survived Tot_people            \n",
       "0        0                  551\n",
       "         1                  109\n",
       "         2                   69\n",
       "         5                   20\n",
       "         4                   16\n",
       "         3                   13\n",
       "         6                   12\n",
       "         10                  11\n",
       "         7                    8\n",
       "1        0                  239\n",
       "         1                  126\n",
       "         2                   90\n",
       "         3                   30\n",
       "         4                    6\n",
       "         5                    5\n",
       "         6                    4"
      ]
     },
     "execution_count": 11,
     "metadata": {},
     "output_type": "execute_result"
    }
   ],
   "source": [
    "#Column Sibsp+Parch\n",
    "Data[\"Tot_people\"] = Data.Sibsp+Data.Parch\n",
    "\n",
    "#Count\n",
    "pd.DataFrame(Data.groupby(\"Survived\").Tot_people.value_counts())"
   ]
  },
  {
   "cell_type": "markdown",
   "id": "57da8ab3-8c1d-4e12-8ed3-c09bc3248f9c",
   "metadata": {},
   "source": [
    ".\n",
    "\n",
    "In the end, looking at the two dataframes, passengers with 7 or more people along did not survive.\n",
    "\n",
    "The survival chances seem to decrease with the number of people along."
   ]
  },
  {
   "cell_type": "code",
   "execution_count": 12,
   "id": "0014d271-2d0b-4692-9e4f-6fa98545a9c2",
   "metadata": {},
   "outputs": [
    {
     "name": "stdout",
     "output_type": "stream",
     "text": [
      "Number of missing data:  0\n",
      "Number of passengers:  1309\n",
      "Number of unique tickets:  929\n"
     ]
    }
   ],
   "source": [
    "#Ticket\n",
    "print(\"Number of missing data: \", (Data.Ticket.isna()).sum())\n",
    "print(\"Number of passengers: \", len(Data))\n",
    "print(\"Number of unique tickets: \", len(Data.Ticket.unique()))"
   ]
  },
  {
   "cell_type": "markdown",
   "id": "a6365513-3ec8-4cf4-a873-4222ef9a2da6",
   "metadata": {},
   "source": [
    ".\n",
    "\n",
    "Many people had the same ticket (same room on the ship)."
   ]
  },
  {
   "cell_type": "code",
   "execution_count": 38,
   "id": "a677aafc-e1de-445b-bb9d-4c8d1fb0b83e",
   "metadata": {},
   "outputs": [
    {
     "data": {
      "text/plain": [
       "Text(0.5, 6.79999999999999, 'People with same ticket')"
      ]
     },
     "execution_count": 38,
     "metadata": {},
     "output_type": "execute_result"
    },
    {
     "data": {
      "image/png": "[encoded data removed]",
      "text/plain": [
       "<Figure size 360x360 with 1 Axes>"
      ]
     },
     "metadata": {
      "needs_background": "light"
     },
     "output_type": "display_data"
    }
   ],
   "source": [
    "#People with the same ticket\n",
    "Res = []\n",
    "for i in Data.Ticket.unique() :\n",
    "    if len(np.where(Data.Ticket == i)[0])>1 :\n",
    "        Res.append(len(np.where(Data.Ticket == i)[0]))\n",
    "        \n",
    "sn.displot(Res)\n",
    "plt.xlabel(\"People with same ticket\")"
   ]
  },
  {
   "cell_type": "markdown",
   "id": "6c511df1-d0ef-484e-9d91-95a495332f5b",
   "metadata": {},
   "source": [
    ".\n",
    "\n",
    "For the majority of people, couples (having the same ticket) were more frequent."
   ]
  },
  {
   "cell_type": "code",
   "execution_count": 14,
   "id": "10e5eb70-60f1-4de4-b936-ddaf2e8cd304",
   "metadata": {},
   "outputs": [
    {
     "name": "stdout",
     "output_type": "stream",
     "text": [
      "Mean Fare price:  33.29547928134557\n",
      "Median Fare price:  14.4542\n"
     ]
    },
    {
     "data": {
      "text/plain": [
       "<seaborn.axisgrid.FacetGrid at 0x7f54f28be6d8>"
      ]
     },
     "execution_count": 14,
     "metadata": {},
     "output_type": "execute_result"
    },
    {
     "data": {
      "image/png": "[encoded data removed]",
      "text/plain": [
       "<Figure size 360x360 with 1 Axes>"
      ]
     },
     "metadata": {
      "needs_background": "light"
     },
     "output_type": "display_data"
    }
   ],
   "source": [
    "#Fare\n",
    "print(\"Mean Fare price: \", Data.Fare.mean())\n",
    "print(\"Median Fare price: \", Data.Fare.median())\n",
    "\n",
    "sn.displot(Data.Fare,bins=15)"
   ]
  },
  {
   "cell_type": "code",
   "execution_count": 15,
   "id": "02490730-b0e2-43f0-8a6a-8518891e9bc3",
   "metadata": {},
   "outputs": [
    {
     "data": {
      "text/html": [
       "<div>\n",
       "<style scoped>\n",
       "    .dataframe tbody tr th:only-of-type {\n",
       "        vertical-align: middle;\n",
       "    }\n",
       "\n",
       "    .dataframe tbody tr th {\n",
       "        vertical-align: top;\n",
       "    }\n",
       "\n",
       "    .dataframe thead th {\n",
       "        text-align: right;\n",
       "    }\n",
       "</style>\n",
       "<table border=\"1\" class=\"dataframe\">\n",
       "  <thead>\n",
       "    <tr style=\"text-align: right;\">\n",
       "      <th></th>\n",
       "      <th>mean</th>\n",
       "      <th>std</th>\n",
       "    </tr>\n",
       "    <tr>\n",
       "      <th>Survived</th>\n",
       "      <th></th>\n",
       "      <th></th>\n",
       "    </tr>\n",
       "  </thead>\n",
       "  <tbody>\n",
       "    <tr>\n",
       "      <th>0</th>\n",
       "      <td>23.353831</td>\n",
       "      <td>34.145096</td>\n",
       "    </tr>\n",
       "    <tr>\n",
       "      <th>1</th>\n",
       "      <td>49.361184</td>\n",
       "      <td>68.648795</td>\n",
       "    </tr>\n",
       "  </tbody>\n",
       "</table>\n",
       "</div>"
      ],
      "text/plain": [
       "               mean        std\n",
       "Survived                      \n",
       "0         23.353831  34.145096\n",
       "1         49.361184  68.648795"
      ]
     },
     "execution_count": 15,
     "metadata": {},
     "output_type": "execute_result"
    }
   ],
   "source": [
    "#Mean and standard deviation of survived passengers\n",
    "pd.DataFrame(Data.groupby(\"Survived\").Fare.agg([\"mean\",\"std\"]))"
   ]
  },
  {
   "cell_type": "markdown",
   "id": "be7834f5-c4e2-4f33-8f6a-a2c75869e3ab",
   "metadata": {},
   "source": [
    ".\n",
    "\n",
    "There is a small difference: on average, it seems that passengers who paid a larger ricket fare had a larger chance to survive (probably because those people were in the first class).\n",
    "\n",
    "However, the large standard deviations cannot allow to draw a definite conclusion."
   ]
  },
  {
   "cell_type": "code",
   "execution_count": 16,
   "id": "6ad45097-93fc-4112-a8c9-f81f4b1abab8",
   "metadata": {},
   "outputs": [
    {
     "name": "stdout",
     "output_type": "stream",
     "text": [
      "Number of missing values:  1014\n"
     ]
    },
    {
     "data": {
      "text/plain": [
       "n    1014\n",
       "C      94\n",
       "B      65\n",
       "D      46\n",
       "E      41\n",
       "A      22\n",
       "F      21\n",
       "G       5\n",
       "T       1\n",
       "Name: Cabin, dtype: int64"
      ]
     },
     "execution_count": 16,
     "metadata": {},
     "output_type": "execute_result"
    }
   ],
   "source": [
    "#Cabin\n",
    "print(\"Number of missing values: \", (Data.Cabin.isna()).sum())\n",
    "\n",
    "#Missing values will be replaced with the letter \"n\"\n",
    "Data.Cabin.fillna(\"n\", inplace=True)\n",
    "\n",
    "#The first letter of \"Cabin\" represents the corresponding deck (F is the deepest in the ship).\n",
    "#We can extract the first letter of the cabin (i.e. the ship deck)\n",
    "Data.Cabin = Data.Cabin.map(lambda p: str(p)[0])\n",
    "\n",
    "#Unique values and count\n",
    "Data.Cabin.value_counts()"
   ]
  },
  {
   "cell_type": "code",
   "execution_count": 17,
   "id": "b79dd86c-b1ad-43a0-ae91-4827df39a24c",
   "metadata": {},
   "outputs": [
    {
     "data": {
      "text/html": [
       "<div>\n",
       "<style scoped>\n",
       "    .dataframe tbody tr th:only-of-type {\n",
       "        vertical-align: middle;\n",
       "    }\n",
       "\n",
       "    .dataframe tbody tr th {\n",
       "        vertical-align: top;\n",
       "    }\n",
       "\n",
       "    .dataframe thead th {\n",
       "        text-align: right;\n",
       "    }\n",
       "</style>\n",
       "<table border=\"1\" class=\"dataframe\">\n",
       "  <thead>\n",
       "    <tr style=\"text-align: right;\">\n",
       "      <th></th>\n",
       "      <th></th>\n",
       "      <th>Cabin</th>\n",
       "    </tr>\n",
       "    <tr>\n",
       "      <th>Survived</th>\n",
       "      <th>Cabin</th>\n",
       "      <th></th>\n",
       "    </tr>\n",
       "  </thead>\n",
       "  <tbody>\n",
       "    <tr>\n",
       "      <th rowspan=\"9\" valign=\"top\">0</th>\n",
       "      <th>n</th>\n",
       "      <td>707</td>\n",
       "    </tr>\n",
       "    <tr>\n",
       "      <th>C</th>\n",
       "      <td>37</td>\n",
       "    </tr>\n",
       "    <tr>\n",
       "      <th>B</th>\n",
       "      <td>18</td>\n",
       "    </tr>\n",
       "    <tr>\n",
       "      <th>D</th>\n",
       "      <td>14</td>\n",
       "    </tr>\n",
       "    <tr>\n",
       "      <th>A</th>\n",
       "      <td>11</td>\n",
       "    </tr>\n",
       "    <tr>\n",
       "      <th>E</th>\n",
       "      <td>11</td>\n",
       "    </tr>\n",
       "    <tr>\n",
       "      <th>F</th>\n",
       "      <td>8</td>\n",
       "    </tr>\n",
       "    <tr>\n",
       "      <th>G</th>\n",
       "      <td>2</td>\n",
       "    </tr>\n",
       "    <tr>\n",
       "      <th>T</th>\n",
       "      <td>1</td>\n",
       "    </tr>\n",
       "    <tr>\n",
       "      <th rowspan=\"8\" valign=\"top\">1</th>\n",
       "      <th>n</th>\n",
       "      <td>307</td>\n",
       "    </tr>\n",
       "    <tr>\n",
       "      <th>C</th>\n",
       "      <td>57</td>\n",
       "    </tr>\n",
       "    <tr>\n",
       "      <th>B</th>\n",
       "      <td>47</td>\n",
       "    </tr>\n",
       "    <tr>\n",
       "      <th>D</th>\n",
       "      <td>32</td>\n",
       "    </tr>\n",
       "    <tr>\n",
       "      <th>E</th>\n",
       "      <td>30</td>\n",
       "    </tr>\n",
       "    <tr>\n",
       "      <th>F</th>\n",
       "      <td>13</td>\n",
       "    </tr>\n",
       "    <tr>\n",
       "      <th>A</th>\n",
       "      <td>11</td>\n",
       "    </tr>\n",
       "    <tr>\n",
       "      <th>G</th>\n",
       "      <td>3</td>\n",
       "    </tr>\n",
       "  </tbody>\n",
       "</table>\n",
       "</div>"
      ],
      "text/plain": [
       "                Cabin\n",
       "Survived Cabin       \n",
       "0        n        707\n",
       "         C         37\n",
       "         B         18\n",
       "         D         14\n",
       "         A         11\n",
       "         E         11\n",
       "         F          8\n",
       "         G          2\n",
       "         T          1\n",
       "1        n        307\n",
       "         C         57\n",
       "         B         47\n",
       "         D         32\n",
       "         E         30\n",
       "         F         13\n",
       "         A         11\n",
       "         G          3"
      ]
     },
     "execution_count": 17,
     "metadata": {},
     "output_type": "execute_result"
    }
   ],
   "source": [
    "#Count of survived passengers\n",
    "pd.DataFrame(Data.groupby(\"Survived\").Cabin.value_counts())"
   ]
  },
  {
   "cell_type": "code",
   "execution_count": 18,
   "id": "4e907ee0-258f-424e-952a-3647cd1b2e3d",
   "metadata": {},
   "outputs": [
    {
     "name": "stdout",
     "output_type": "stream",
     "text": [
      "B :  0.7230769230769231\n",
      "C :  0.6063829787234043\n",
      "E :  0.7317073170731707\n",
      "D :  0.6956521739130435\n",
      "A :  0.5\n",
      "n :  0.3027613412228797\n",
      "T :  0.0\n",
      "F :  0.6190476190476191\n",
      "G :  0.6\n"
     ]
    }
   ],
   "source": [
    "#Percentage of survived passengers\n",
    "for i in Data.Cabin.unique() :\n",
    "    print(i, \": \", ((Data.Cabin==i) & (Data.Survived==1)).sum()/((Data.Cabin==i).sum()))"
   ]
  },
  {
   "cell_type": "markdown",
   "id": "5b4147cb-e1d7-4b66-ac4e-c8f3e097409c",
   "metadata": {},
   "source": [
    ".\n",
    "\n",
    "There is no evidence that people who were in the upper decks had a larger chance to survive with respect to people in the lower decks.\n",
    "\n",
    "This may be due to the large number of missing data."
   ]
  },
  {
   "cell_type": "code",
   "execution_count": 19,
   "id": "23c344e0-c280-4ebd-88be-fdae43917874",
   "metadata": {},
   "outputs": [
    {
     "data": {
      "text/plain": [
       "([<matplotlib.axis.XTick at 0x7f54f27074a8>,\n",
       "  <matplotlib.axis.XTick at 0x7f54f2898a20>,\n",
       "  <matplotlib.axis.XTick at 0x7f54f3837a58>],\n",
       " [Text(0, 0, 'Southampton'),\n",
       "  Text(1, 0, 'Cherbourg'),\n",
       "  Text(2, 0, 'Queenstown')])"
      ]
     },
     "execution_count": 19,
     "metadata": {},
     "output_type": "execute_result"
    },
    {
     "data": {
      "image/png": "[encoded data removed]",
      "text/plain": [
       "<Figure size 432x288 with 1 Axes>"
      ]
     },
     "metadata": {
      "needs_background": "light"
     },
     "output_type": "display_data"
    }
   ],
   "source": [
    "#Embarked  \n",
    "sn.countplot(x=Data.Embarked)\n",
    "plt.xticks([0,1,2],[\"Southampton\",\"Cherbourg\",\"Queenstown\"])"
   ]
  },
  {
   "cell_type": "markdown",
   "id": "05308069-189d-4988-b46e-c502a0de3bff",
   "metadata": {},
   "source": [
    ".\n",
    "\n",
    "The majority of people embarked in Southampton."
   ]
  },
  {
   "cell_type": "code",
   "execution_count": 20,
   "id": "5a03510c-4a49-4071-a4d8-7441c8e1a94f",
   "metadata": {},
   "outputs": [
    {
     "data": {
      "text/plain": [
       "array(['St Louis, MO', 'Montreal, PQ / Chesterville, ON', 'New York, NY',\n",
       "       'Hudson, NY', 'Belfast, NI', 'Bayside, Queens, NY',\n",
       "       'Montevideo, Uruguay', 'Paris, France', nan, 'Hessle, Yorks',\n",
       "       'Montreal, PQ', 'Winnipeg, MN', 'San Francisco, CA',\n",
       "       'Dowagiac, MI', 'Stockholm, Sweden / Washington, DC',\n",
       "       'Trenton, NJ', 'Glen Ridge, NJ', 'Youngstown, OH',\n",
       "       'Birkdale, England Cleveland, Ohio', 'London / Winnipeg, MB',\n",
       "       'Cooperstown, NY', 'St Leonards-on-Sea, England Ohio',\n",
       "       'Los Angeles, CA', 'Pomeroy, WA', 'Omaha, NE', 'Philadelphia, PA',\n",
       "       'Denver, CO', 'Belmont, MA', 'Washington, DC',\n",
       "       'Austria-Hungary / Germantown, Philadelphia, PA',\n",
       "       'Germantown, Philadelphia, PA', 'Bryn Mawr, PA',\n",
       "       'Ascot, Berkshire / Rochester, NY', 'Little Onn Hall, Staffs',\n",
       "       'Amenia, ND', 'New York, NY / Ithaca, NY', 'London, England',\n",
       "       'Liverpool, England / Belfast', 'Stoughton, MA', 'Victoria, BC',\n",
       "       'Lakewood, NJ', 'Roachdale, IN', 'Milwaukee, WI', 'Lima, Peru',\n",
       "       'Calgary, AB', 'Deephaven, MN / Cedar Rapids, IA',\n",
       "       'London / Paris', 'Mt Airy, Philadelphia, PA', 'Brookline, MA',\n",
       "       'Brooklyn, NY', 'Winnipeg, MB', 'Westcliff-on-Sea, Essex',\n",
       "       'Zurich, Switzerland', 'Scituate, MA',\n",
       "       \"St Anne's-on-Sea, Lancashire\", 'Paris, France / New York, NY',\n",
       "       'Greenwich, CT', 'Kingston, Surrey', 'London / Middlesex',\n",
       "       'Brighton, MA', 'London / Birmingham', 'Chicago, IL',\n",
       "       'Indianapolis, IN', 'New York, NY /  Stamford CT',\n",
       "       'Paris, France New York, NY', 'Liverpool', 'Bennington, VT',\n",
       "       'London', 'Buffalo, NY', 'Southington / Noank, CT', 'Boston, MA',\n",
       "       'Portland, OR', 'Stockholm, Sweden', 'Springfield, MA',\n",
       "       'London / New York, NY', 'Brockton, MA', 'Belgium  Montreal, PQ',\n",
       "       'Vancouver, BC', 'Dorchester, MA', 'East Bridgewater, MA',\n",
       "       'Fond du Lac, WI', 'Green Bay, WI', 'Lexington, MA',\n",
       "       'Isle of Wight, England', 'Providence, RI', '?Havana, Cuba',\n",
       "       'Belfast', 'Surbiton Hill, Surrey', 'Isleworth, England',\n",
       "       'Madrid, Spain', 'Toronto, ON', 'Worcester, MA',\n",
       "       'Rotterdam, Netherlands', 'Paris /  New York, NY', 'Seattle, WA',\n",
       "       'London  Vancouver, BC', 'Haverford, PA / Cooperstown, NY',\n",
       "       'Manchester, England', 'New York, NY / Greenwich CT', 'Duluth, MN',\n",
       "       'Basel, Switzerland', 'New Britain, CT',\n",
       "       'St James, Long Island, NY', 'Huntington, WV', 'Streatham, Surrey',\n",
       "       'Minneapolis, MN', 'Tuxedo Park, NY',\n",
       "       'Wimbledon Park, London / Hayling Island, Hants', 'Newark, NJ',\n",
       "       'Haverford, PA', 'Gallipolis, Ohio / ? Paris / New York',\n",
       "       'Cincinatti, OH', 'Haddenfield, NJ', 'London /  East Orange, NJ',\n",
       "       'Albany, NY', 'Mexico City, Mexico', 'East Orange, NJ',\n",
       "       'England Salt Lake City, Utah', 'Brunswick, ME',\n",
       "       'New York, NY / Briarcliff Manor NY', 'Elkins Park, PA',\n",
       "       'Geneva, Switzerland / Radnor, PA', 'Halifax, NS',\n",
       "       'New York, NY / Washington, DC', 'Russia New York, NY',\n",
       "       'Bryn Mawr, PA, USA', 'Buenos Aires, Argentina / New Jersey, NJ',\n",
       "       'Cornwall, England Houghton, MI', 'Warwick, England',\n",
       "       'West Hoboken, NJ', 'Penzance, Cornwall / Akron, OH', 'Guernsey',\n",
       "       'Bristol, Avon / Jacksonville, FL',\n",
       "       'Plymouth, Dorset / Houghton, MI', 'Jacksonville, FL',\n",
       "       'Norwich / New York, NY', 'England',\n",
       "       'Guntur, India / Benton Harbour, MI', 'Rochester, NY',\n",
       "       'St Ives, Cornwall / Calumet, MI', 'Elmira, NY / Orange, NJ',\n",
       "       'Lake Arthur, Chavez County, NM', 'London / Montreal, PQ',\n",
       "       'Cape Town, South Africa / Seattle, WA',\n",
       "       'Skara, Sweden / Rockford, IL',\n",
       "       'Sittingbourne, England / San Diego, CA', 'Southsea, Hants',\n",
       "       'Bangkok, Thailand / Roseville, IL', 'Mamaroneck, NY', 'Bronx, NY',\n",
       "       'Cornwall / Spokane, WA', 'England / San Francisco, CA',\n",
       "       'Hartford, Huntingdonshire', 'Helsinki, Finland Ashtabula, Ohio',\n",
       "       'London / Fort Byron, NY',\n",
       "       'Bishopstoke, Hants / Fayette Valley, ID', 'Pennsylvania',\n",
       "       'Provo, UT', 'Upper Burma, India Pittsburgh, PA',\n",
       "       'St Ives, Cornwall / Hancock, MI', 'Lyndhurst, England',\n",
       "       'London / Staten Island, NY', 'Portugal / Sau Paulo, Brazil',\n",
       "       'Lucca, Italy / California', 'Guernsey / Elizabeth, NJ',\n",
       "       'New Forest, England', 'Southampton', 'Holley, NY',\n",
       "       'Greenport, NY', 'Barcelona, Spain / Havana, Cuba',\n",
       "       'England / Detroit, MI', 'Goteborg, Sweden / Rockford, IL',\n",
       "       'Oslo, Norway Bayonne, NJ', 'England / Philadelphia, PA',\n",
       "       'Cornwall / Houghton, MI', 'Janjgir, India / Pennsylvania',\n",
       "       'Liverpool / Montreal, PQ', 'Cornwall / Clear Creek, CO',\n",
       "       'Cornwall', 'Cornwall / Camden, NJ', 'West Kensington, London',\n",
       "       'Clevedon, England', 'Auburn, NY', 'Detroit, MI',\n",
       "       'Seattle, WA / Toledo, OH', 'Denmark Hill, Surrey / Chicago',\n",
       "       'Walthamstow, England', 'Ilford, Essex / Winnipeg, MB',\n",
       "       'Somerset / Bernardsville, NJ', 'India / Rapid City, SD',\n",
       "       'West Hampstead, London / Neepawa, MB',\n",
       "       'Kontiolahti, Finland / Detroit, MI', 'Cornwall / Akron, OH',\n",
       "       'Devonport, England', 'England / Sacramento, CA', 'Tokyo, Japan',\n",
       "       'Swindon, England', 'North Evington, England',\n",
       "       'St Ives, Cornwall / Houghton, MI', 'Moscow / Bronx, NY',\n",
       "       'India / Pittsburgh, PA', 'Harrisburg, PA', 'Glasgow / Bangor, ME',\n",
       "       'Sweden / Arlington, NJ', 'Paris / Haiti',\n",
       "       'Berne, Switzerland / Central City, IA', 'London / Chicago, IL',\n",
       "       'Weston-Super-Mare, Somerset', 'Southampton / New York, NY',\n",
       "       'Paris', 'Paris / Montreal, PQ', 'St Austall, Cornwall',\n",
       "       'Weston-Super-Mare / Moose Jaw, SK', 'Sydney, Australia',\n",
       "       'Sarnia, ON', 'England / Bennington, VT', 'Chelsea, London',\n",
       "       'Harrow-on-the-Hill, Middlesex', 'Copenhagen, Denmark',\n",
       "       'Guernsey / Montclair, NJ and/or Toledo, Ohio', 'Frankfort, KY',\n",
       "       'Halesworth, England', 'Cambridge, MA', 'Nice, France',\n",
       "       'Cornwall / Hancock, MI', 'Glasgow', 'Cologne, Germany',\n",
       "       'Folkstone, Kent / New York, NY', 'Middleburg Heights, OH',\n",
       "       'Pondersend, England / New Durham, NJ', 'Spain / Havana, Cuba',\n",
       "       'Hamilton, ON', 'St Andrews, Guernsey', 'Woodford County, KY',\n",
       "       'Gunnislake, England / Butte, MT', 'Ilfracombe, Devon',\n",
       "       'Worcester, England', 'Russia', 'Denmark / New York, NY',\n",
       "       'Milford, NH', 'Plymouth, Devon / Detroit, MI', 'Brighton, Sussex',\n",
       "       'Elizabeth, NJ', 'Spain',\n",
       "       'London, England / Marietta, Ohio and Milwaukee, WI',\n",
       "       'Guernsey / Wilmington, DE', 'Hornsey, England', 'Deer Lodge, MT',\n",
       "       'Finland / Minneapolis, MN', 'Finland / Washington, DC',\n",
       "       'Sault St Marie, ON', 'Catford, Kent / Detroit, MI',\n",
       "       'Columbus, OH', 'Bath, England / Massachusetts',\n",
       "       'Plymouth, England', 'Barre, Co Washington, VT',\n",
       "       'Bristol, England / New Britain, CT', 'Aberdeen / Portland, OR',\n",
       "       'England / Hartford, CT', 'Bromsgrove, England / Montreal, PQ',\n",
       "       'Bournmouth, England', 'Guernsey, England / Edgewood, RI',\n",
       "       'Harrow, England', 'Yoevil, England / Cottage Grove, OR',\n",
       "       'East Providence, RI', 'Norway Los Angeles, CA',\n",
       "       'Perkins County, SD', 'Taalintehdas, Finland Hoboken, NJ',\n",
       "       'Greensburg, PA', 'Asarum, Sweden Brooklyn, NY',\n",
       "       'Bournemouth, England', 'Sweden Akeley, MN',\n",
       "       'London, England Norfolk, VA', 'Syria Fredericksburg, VA',\n",
       "       'England Albion, NY', 'Salo, Finland Astoria, OR', 'Argentina',\n",
       "       'Lower Clapton, Middlesex or Erdington, Birmingham',\n",
       "       'Windsor, England New York, NY', 'Bergen, Norway',\n",
       "       'Sweden Winnipeg, MN', 'Ruotsinphyhtaa, Finland New York, NY',\n",
       "       'Vadsbro, Sweden Ministee, MI', 'Hartford, CT',\n",
       "       'Sweden Chicago, IL', 'Bulgaria Chicago, IL',\n",
       "       'Altdorf, Switzerland', 'Sweden Joliet, IL',\n",
       "       'Sweden  Worcester, MA', 'Sweden Worcester, MA',\n",
       "       'Oskarshamn, Sweden Minneapolis, MN', 'Ottawa, ON',\n",
       "       'Krakoryd, Sweden Bloomington, IL', 'Syria Youngstown, OH',\n",
       "       'Ruotsinphytaa, Finland New York, NY', 'Syria New York, NY',\n",
       "       'London Skanteales, NY', 'Syria Ottawa, ON',\n",
       "       'England New York, NY', 'Krakudden, Sweden Moune, IL',\n",
       "       'Tranvik, Finland New York', 'Syria', 'Hong Kong New York, NY',\n",
       "       'Brennes, Norway New York', 'Stockholm, Sweden New York',\n",
       "       'Syria Kent, ON', 'Ireland Chicago, IL',\n",
       "       'Treherbert, Cardiff, Wales',\n",
       "       'Kingwilliamstown, Co Cork, Ireland Glens Falls, NY',\n",
       "       'Medeltorp, Sweden Chicago, IL', 'Bridgerule, Devon',\n",
       "       'Broomfield, Chelmsford, England', 'Co Cork, Ireland Roxbury, MA',\n",
       "       'Kingwilliamstown, Co Cork, Ireland New York, NY',\n",
       "       'Co Cork, Ireland Charlestown, MA',\n",
       "       'Co Sligo, Ireland New York, NY', 'Croatia',\n",
       "       'Ireland Philadelphia, PA', 'Dagsas, Sweden Fower, MN',\n",
       "       'Goteborg, Sweden Huntley, IL',\n",
       "       'Co Longford, Ireland New York, NY',\n",
       "       'Co Sligo, Ireland Hartford, CT', 'St Denys, Southampton, Hants',\n",
       "       'Ireland New York, NY', 'Greece', 'Portugal',\n",
       "       'London Brooklyn, NY', 'Co Limerick, Ireland Sherbrooke, PQ',\n",
       "       'Ireland Brooklyn, NY', 'Ireland', 'Austria',\n",
       "       'England Brooklyn, NY', 'Merrill, WI',\n",
       "       'Bristol, England Cleveland, OH',\n",
       "       'Bournemouth, England Newark, NJ', 'Austria-Hungary',\n",
       "       'Australia Fingal, ND', 'Norrlot, Sweden Chicago, IL',\n",
       "       'Co Athlone, Ireland New York, NY', 'Stanton, IA',\n",
       "       'West Bromwich, England Pontiac, MI',\n",
       "       'Liverpool, England Bedford, OH', 'Tampico, MT',\n",
       "       'Belgium Detroit, MI', 'Devon, England Wichita, KS',\n",
       "       'Bulgaria Coon Rapids, IA',\n",
       "       'Kilmacowen, Co Sligo, Ireland New York, NY',\n",
       "       'England Oglesby, IL', 'Union Hill, NJ', 'London New York, NY',\n",
       "       'Austria Niagara Falls, NY', 'West Haven, CT',\n",
       "       'Tofta, Sweden Joliet, IL', 'Karberg, Sweden Jerome Junction, AZ',\n",
       "       'Effington Rut, SD', 'Illinois, USA',\n",
       "       'Aughnacliff, Co Longford, Ireland New York, NY',\n",
       "       'Italy Philadelphia, PA',\n",
       "       'Rotherfield, Sussex, England Essex Co, MA',\n",
       "       'Bridgwater, Somerset, England',\n",
       "       'Co Clare, Ireland Washington, DC',\n",
       "       'Strood, Kent, England Detroit, MI',\n",
       "       'Wiltshire, England Niagara Falls, NY', 'Dorking, Surrey, England',\n",
       "       'Foresvik, Norway Portland, ND', 'Waukegan, Chicago, IL',\n",
       "       'Myren, Sweden New York, NY', 'Finland Sudbury, ON',\n",
       "       'Oslo, Norway Cameron, WI', 'Antwerp, Belgium / Stanton, OH'],\n",
       "      dtype=object)"
      ]
     },
     "execution_count": 20,
     "metadata": {},
     "output_type": "execute_result"
    }
   ],
   "source": [
    "#Home_det: unique values\n",
    "Data.Home_det.unique()"
   ]
  },
  {
   "cell_type": "markdown",
   "id": "8c2192ee-9bfd-4cd1-8a79-03cb4d2722fa",
   "metadata": {},
   "source": [
    ".\n",
    "\n",
    "For the majority of the passengers, the first part is the name of the home town/state. The second part is the destination town/state.\n",
    "For some people, only one part is present: it occurs when home and destination are the same (e.g., 'New York, NY')\n",
    "or when only the destination is unknown (e.g., 'London, England')\n",
    "\n",
    "Let's find only the destination (if present)."
   ]
  },
  {
   "cell_type": "code",
   "execution_count": 21,
   "id": "ee8b2636-65d1-4188-81a4-4919d8a35298",
   "metadata": {},
   "outputs": [
    {
     "data": {
      "text/plain": [
       "array(['MO', 'ON', 'NY', 'NI', 0, 'PQ', 'MN', 'CA', 'MI', 'DC', 'NJ',\n",
       "       'OH', 'MB', 'WA', 'NE', 'PA', 'CO', 'MA', 'ND', 'BC', 'IN', 'WI',\n",
       "       'AB', 'IA', 'CT', 'IL', 'VT', 'OR', 'RI', 'WV', 'ME', 'NS', 'FL',\n",
       "       'NM', 'ID', 'UT', 'SD', 'SK', 'KY', 'MT', 'NH', 'DE', 'VA', 'KS',\n",
       "       'AZ'], dtype=object)"
      ]
     },
     "execution_count": 21,
     "metadata": {},
     "output_type": "execute_result"
    }
   ],
   "source": [
    "#Make a copy\n",
    "Home_Det = pd.DataFrame(Data.Home_det.copy())\n",
    "\n",
    "#Replace NaN with '0'\n",
    "Home_Det.fillna(\"0\",inplace=True)\n",
    "\n",
    "#Create new column\n",
    "Home_Det[\"Destination\"] = 0\n",
    "\n",
    "#Split data\n",
    "i=0\n",
    "while i<len(Home_Det) :\n",
    "    if Home_Det.iloc[i][0]!=\"0\" :\n",
    "        a = Home_Det.iloc[i][0].split(\", \")[-1]\n",
    "        if len(a)<3 :\n",
    "            Home_Det.iloc[i] = a\n",
    "    i=i+1\n",
    "\n",
    "#Unique values\n",
    "Home_Det.Destination.unique()"
   ]
  },
  {
   "cell_type": "code",
   "execution_count": 22,
   "id": "eb8d0c35-962e-4dcb-8537-1d5c564387f5",
   "metadata": {},
   "outputs": [
    {
     "data": {
      "text/plain": [
       "0     750\n",
       "NY    166\n",
       "NJ     36\n",
       "MA     34\n",
       "MI     33\n",
       "PA     32\n",
       "IL     30\n",
       "OH     24\n",
       "PQ     21\n",
       "ON     20\n",
       "MN     19\n",
       "MB     15\n",
       "CA     13\n",
       "CT     12\n",
       "WI      9\n",
       "DC      8\n",
       "OR      7\n",
       "IA      7\n",
       "WA      7\n",
       "RI      6\n",
       "MO      4\n",
       "BC      4\n",
       "ND      4\n",
       "MT      4\n",
       "KS      4\n",
       "VT      4\n",
       "ME      3\n",
       "CO      3\n",
       "IN      3\n",
       "ID      3\n",
       "VA      3\n",
       "SD      3\n",
       "KY      2\n",
       "AB      2\n",
       "FL      2\n",
       "NS      2\n",
       "WV      2\n",
       "NM      1\n",
       "UT      1\n",
       "SK      1\n",
       "NH      1\n",
       "DE      1\n",
       "NE      1\n",
       "NI      1\n",
       "AZ      1\n",
       "Name: Destination, dtype: int64"
      ]
     },
     "execution_count": 22,
     "metadata": {},
     "output_type": "execute_result"
    }
   ],
   "source": [
    "#Count\n",
    "Home_Det.Destination.value_counts()"
   ]
  },
  {
   "cell_type": "markdown",
   "id": "b441d9ff-9305-4279-8f38-4df60b2e81f9",
   "metadata": {},
   "source": [
    ".\n",
    "\n",
    "Despite the large number of missing values, for the majority of people, the destination is NewYork."
   ]
  },
  {
   "cell_type": "code",
   "execution_count": 23,
   "id": "9dc8ffb9-4626-4231-8516-40b3b88477f5",
   "metadata": {},
   "outputs": [
    {
     "name": "stdout",
     "output_type": "stream",
     "text": [
      "Number of people on the lifeboats:  486\n"
     ]
    },
    {
     "data": {
      "text/plain": [
       "array(['2', '11', nan, '3', '10', 'D', '4', '9', '6', 'B', '8', 'A', '5',\n",
       "       '7', 'C', '14', '5 9', '13', '1', '15', '5 7', '8 10', '12', '16',\n",
       "       '13 15 B', 'C D', '15 16', '13 15'], dtype=object)"
      ]
     },
     "execution_count": 23,
     "metadata": {},
     "output_type": "execute_result"
    }
   ],
   "source": [
    "#Boat (this is something related only to survived people)\n",
    "print(\"Number of people on the lifeboats: \", Data.Boat.notnull().sum())\n",
    "\n",
    "#Unique values\n",
    "Data.Boat.unique()"
   ]
  },
  {
   "cell_type": "code",
   "execution_count": 24,
   "id": "f4d93540-c315-447a-b5e9-09315ad967d6",
   "metadata": {},
   "outputs": [
    {
     "data": {
      "text/plain": [
       "<AxesSubplot:xlabel='Boat', ylabel='count'>"
      ]
     },
     "execution_count": 24,
     "metadata": {},
     "output_type": "execute_result"
    },
    {
     "data": {
      "image/png": "[encoded data removed]",
      "text/plain": [
       "<Figure size 1800x288 with 1 Axes>"
      ]
     },
     "metadata": {
      "needs_background": "light"
     },
     "output_type": "display_data"
    }
   ],
   "source": [
    "#Survived passengers\n",
    "plt.figure(figsize=(25,4))\n",
    "sn.countplot(x=Data.Boat,hue=Data.Survived)"
   ]
  },
  {
   "cell_type": "markdown",
   "id": "2ef8cc15-0d77-4ecb-a6d4-4aa95bc9c1b1",
   "metadata": {},
   "source": [
    ".\n",
    "\n",
    "From the plot above, it seems that some people, even in the lifeboat, did not survive."
   ]
  },
  {
   "cell_type": "code",
   "execution_count": 25,
   "id": "5b9cbaf0-8ed6-4b1e-bf75-bb95e3b0ca25",
   "metadata": {},
   "outputs": [
    {
     "name": "stdout",
     "output_type": "stream",
     "text": [
      "Number of people who died on the lifeboats:  9\n",
      "Mean number of people per lifeboat:  18.0\n"
     ]
    }
   ],
   "source": [
    "print(\"Number of people who died on the lifeboats: \", (Data.Boat.notnull() & (Data.Survived==0) ).sum())\n",
    "print(\"Mean number of people per lifeboat: \", Data.Boat[Data.Boat.notnull()].value_counts().mean())"
   ]
  },
  {
   "cell_type": "markdown",
   "id": "de844d36-a94c-45c4-94f0-4730c07b47be",
   "metadata": {},
   "source": [
    ".\n",
    "\n",
    "Even if the number of people per lifeboat is not the real one (because that the dataset of this notebook is not complete), it seems that not all lifeboat were completly full (they were tested for 60-70 men)."
   ]
  },
  {
   "cell_type": "code",
   "execution_count": 26,
   "id": "7f7076f9-aab7-4eeb-8314-de08d80ceeff",
   "metadata": {},
   "outputs": [
    {
     "name": "stdout",
     "output_type": "stream",
     "text": [
      "Number of retrieved bodies:  121\n"
     ]
    }
   ],
   "source": [
    "#Body (only non-survived passengers)\n",
    "print(\"Number of retrieved bodies: \", Data.Body.notnull().sum())"
   ]
  },
  {
   "cell_type": "markdown",
   "id": "9374b601-5325-4ca7-9d07-2cc2d959adbe",
   "metadata": {},
   "source": [
    ".\n",
    "\n",
    ".\n",
    "\n",
    "## **Feature correlation**"
   ]
  },
  {
   "cell_type": "code",
   "execution_count": 27,
   "id": "83aa4eae-69dd-4a92-8cb4-2cf8a4345df7",
   "metadata": {},
   "outputs": [
    {
     "data": {
      "text/plain": [
       "<AxesSubplot:xlabel='Age', ylabel='Density'>"
      ]
     },
     "execution_count": 27,
     "metadata": {},
     "output_type": "execute_result"
    },
    {
     "data": {
      "image/png": "[encoded data removed]",
      "text/plain": [
       "<Figure size 432x288 with 1 Axes>"
      ]
     },
     "metadata": {
      "needs_background": "light"
     },
     "output_type": "display_data"
    }
   ],
   "source": [
    "#Pclass & Age\n",
    "sn.kdeplot(x=Data.Age,hue=Data.Pclass, fill=True,palette=\"crest\",alpha=0.5)"
   ]
  },
  {
   "cell_type": "markdown",
   "id": "6f2f3ba1-ea96-4c0e-a8ca-a29770ae5ccd",
   "metadata": {},
   "source": [
    ".\n",
    "\n",
    "On average, second and third classes were the \"youngest\" classes onboard, while the first class hosted older people.\n",
    "\n",
    "For the third and second classes, there is a small bump for ages <10 meaning that there were a relevant number of children."
   ]
  },
  {
   "cell_type": "code",
   "execution_count": 28,
   "id": "c268efcf-8b59-4bf4-8c76-2c5ae7eb1f19",
   "metadata": {},
   "outputs": [
    {
     "data": {
      "text/plain": [
       "([<matplotlib.axis.XTick at 0x7f54f24ec8d0>,\n",
       "  <matplotlib.axis.XTick at 0x7f54f24ec4e0>,\n",
       "  <matplotlib.axis.XTick at 0x7f54f24e6be0>],\n",
       " [Text(0, 0, 'First'), Text(1, 0, 'Second'), Text(2, 0, 'Third')])"
      ]
     },
     "execution_count": 28,
     "metadata": {},
     "output_type": "execute_result"
    },
    {
     "data": {
      "image/png": "[encoded data removed]",
      "text/plain": [
       "<Figure size 432x288 with 1 Axes>"
      ]
     },
     "metadata": {
      "needs_background": "light"
     },
     "output_type": "display_data"
    }
   ],
   "source": [
    "#Pclass & Sex\n",
    "sn.countplot(x=Data.Pclass, hue=Data.Sex)\n",
    "plt.xticks([0, 1, 2], ['First', 'Second', 'Third'])"
   ]
  },
  {
   "cell_type": "markdown",
   "id": "f7864caf-285c-4081-b229-dabbfa36c987",
   "metadata": {},
   "source": [
    ".\n",
    "\n",
    "The two groups are more balanced in the first two classes (married couples) while 2/3 of the the third class were men (alone passengers)."
   ]
  },
  {
   "cell_type": "code",
   "execution_count": 29,
   "id": "41130692-c12d-4a57-abb2-044c101417e9",
   "metadata": {},
   "outputs": [
    {
     "data": {
      "text/plain": [
       "(0.0, 400.0)"
      ]
     },
     "execution_count": 29,
     "metadata": {},
     "output_type": "execute_result"
    },
    {
     "data": {
      "image/png": "[encoded data removed]",
      "text/plain": [
       "<Figure size 1440x252 with 2 Axes>"
      ]
     },
     "metadata": {
      "needs_background": "light"
     },
     "output_type": "display_data"
    }
   ],
   "source": [
    "#Total number of people along with each passenger\n",
    "Data[\"Tot_people\"]=Data.Sibsp+Data.Parch\n",
    "\n",
    "#Plot\n",
    "plt.figure(figsize=(20,3.5))\n",
    "plt.subplot(1,2,1)\n",
    "sn.countplot(x=Data.Pclass[Data.Sex==\"male\"], hue=Data.Tot_people)\n",
    "plt.title(\"Male passengers\")\n",
    "plt.ylim([0,400])\n",
    "plt.subplot(1,2,2)\n",
    "sn.countplot(x=Data.Pclass[Data.Sex==\"female\"], hue=Data.Tot_people)\n",
    "plt.title(\"Female passengers\")\n",
    "plt.ylim([0,400])"
   ]
  },
  {
   "cell_type": "markdown",
   "id": "61663e98-f524-4716-8405-c2d4e34885a9",
   "metadata": {},
   "source": [
    ".\n",
    "\n",
    "As expected, from the two plots above, the number of alone passengers were almost men (the lone female passengers were ~50% less than men)."
   ]
  },
  {
   "cell_type": "code",
   "execution_count": 30,
   "id": "3b3ee223-7027-49f8-bd34-78e675c732fd",
   "metadata": {},
   "outputs": [
    {
     "name": "stdout",
     "output_type": "stream",
     "text": [
      "Alone male passengers\n",
      "3    372\n",
      "2    116\n",
      "1    108\n",
      "Name: Pclass, dtype: int64\n",
      "\n",
      "Alone female passengers\n",
      "3    100\n",
      "1     52\n",
      "2     42\n",
      "Name: Pclass, dtype: int64\n"
     ]
    }
   ],
   "source": [
    "#Count\n",
    "print(\"Alone male passengers\")\n",
    "print(Data.Pclass[(Data.Tot_people==0) & (Data.Sex==\"male\")].value_counts())\n",
    "print(\"\\nAlone female passengers\")\n",
    "print(Data.Pclass[(Data.Tot_people==0) & (Data.Sex==\"female\")].value_counts())"
   ]
  },
  {
   "cell_type": "code",
   "execution_count": 31,
   "id": "06eab5f3-eda1-441d-880b-78625a905dd0",
   "metadata": {},
   "outputs": [
    {
     "data": {
      "text/plain": [
       "Sex     Pclass\n",
       "female  3         29\n",
       "        2         11\n",
       "        1          1\n",
       "male    3         31\n",
       "        2         11\n",
       "        1          3\n",
       "Name: Pclass, dtype: int64"
      ]
     },
     "execution_count": 31,
     "metadata": {},
     "output_type": "execute_result"
    }
   ],
   "source": [
    "#Children (age<10)\n",
    "Data[Data.Age<=10].groupby([\"Sex\"]).Pclass.value_counts()"
   ]
  },
  {
   "cell_type": "markdown",
   "id": "247ae40a-4919-44af-92f3-6002660680b2",
   "metadata": {},
   "source": [
    ".\n",
    "\n",
    "As also noticed before, the majority of children (with age <10) were in the second and third classes."
   ]
  },
  {
   "cell_type": "code",
   "execution_count": 32,
   "id": "a81015d4-d28a-42c0-9465-819f14ea90e4",
   "metadata": {},
   "outputs": [
    {
     "name": "stdout",
     "output_type": "stream",
     "text": [
      "1    201\n",
      "3    173\n",
      "2    112\n",
      "Name: Pclass, dtype: int64\n",
      "\n",
      "\n",
      "Sex     Pclass\n",
      "female  1         138\n",
      "        3          95\n",
      "        2          86\n",
      "male    3          78\n",
      "        1          63\n",
      "        2          26\n",
      "Name: Pclass, dtype: int64\n"
     ]
    }
   ],
   "source": [
    "#Majority of people on lifeboats\n",
    "print(Data[Data.Boat.notnull()].Pclass.value_counts())\n",
    "print(\"\\n\")\n",
    "print(Data[Data.Boat.notnull()].groupby(\"Sex\").Pclass.value_counts())"
   ]
  },
  {
   "cell_type": "markdown",
   "id": "462b4e64-fe6a-46e6-8c6c-d04fe83a827d",
   "metadata": {},
   "source": [
    ".\n",
    "\n",
    "The majority of people on the lifeboats were from the first class even though the majority of men were from the third class."
   ]
  },
  {
   "cell_type": "code",
   "execution_count": 33,
   "id": "08e67877-9d30-42c6-875f-6a899d3974b9",
   "metadata": {},
   "outputs": [
    {
     "data": {
      "text/plain": [
       "(0.5, 7.5)"
      ]
     },
     "execution_count": 33,
     "metadata": {},
     "output_type": "execute_result"
    },
    {
     "data": {
      "image/png": "[encoded data removed]",
      "text/plain": [
       "<Figure size 432x288 with 1 Axes>"
      ]
     },
     "metadata": {
      "needs_background": "light"
     },
     "output_type": "display_data"
    }
   ],
   "source": [
    "#Cabins and Class\n",
    "Cabins = Data.Cabin.replace(np.sort(Data.Cabin[Data.Cabin!=\"n\"].unique()),[1,2,3,4,5,6,7,8])\n",
    "sn.boxplot(y=Cabins[Cabins!=\"n\"],x=Data.Pclass)\n",
    "plt.ylim([0.5,7.5])"
   ]
  },
  {
   "cell_type": "markdown",
   "id": "436fb07e-296c-45e3-bad5-bd660d14f42e",
   "metadata": {},
   "source": [
    ".\n",
    "\n",
    "The third class was the deepst class on the ship (decks: E-F-G).\n",
    "\n",
    "It is possible to use this information to understand if the the deck location is correlated with the survival.\n",
    "\n",
    "From the plot above, we have these combinations:\n",
    "- Pclass1 --> Cabins 2-6                \n",
    "- Pclass2 --> Cabins 5-7\n",
    "- Pcalss3 --> Cabins 6-8\n",
    "\n",
    "We can substitute missing values by choosing randomly a cabin depending on the Pclass. \n",
    "The random choice is to avoid to overfill the same cabin if, for example, the median value is used for imputation."
   ]
  },
  {
   "cell_type": "code",
   "execution_count": 34,
   "id": "df637b4c",
   "metadata": {},
   "outputs": [
    {
     "name": "stdout",
     "output_type": "stream",
     "text": [
      "Number of missing values:  0\n",
      "\n",
      "Deceased\n",
      "E    259\n",
      "F    242\n",
      "G    172\n",
      "D     60\n",
      "C     40\n",
      "B     24\n",
      "A     11\n",
      "T      1\n",
      "Name: Cabin, dtype: int64\n",
      "\n",
      "Survived\n",
      "E    141\n",
      "F    100\n",
      "D     73\n",
      "C     62\n",
      "B     57\n",
      "G     56\n",
      "A     11\n",
      "Name: Cabin, dtype: int64\n"
     ]
    }
   ],
   "source": [
    "#Random decks selection based on the class\n",
    "Data_cab = Data.copy()\n",
    "for i in (np.where(Data_cab.Cabin==\"n\")[0]) :\n",
    "    if (Data_cab.Pclass.iloc[i] == 1):\n",
    "        Data_cab.loc[i,\"Cabin\"] = random.choice([\"B\",\"C\",\"D\",\"E\"])     \n",
    "    elif (Data_cab.Pclass.iloc[i] == 2):\n",
    "        Data_cab.loc[i,\"Cabin\"] = random.choice([\"D\",\"E\",\"F\"])\n",
    "    elif (Data_cab.Pclass.iloc[i] == 3):\n",
    "        Data_cab.loc[i,\"Cabin\"] = random.choice([\"E\",\"F\",\"G\"])\n",
    "\n",
    "print(\"Number of missing values: \", (Data_cab.Cabin==\"n\").sum())\n",
    "\n",
    "#Count of survived and deceased passengers per deck\n",
    "print(\"\\nDeceased\")\n",
    "print(Data_cab[Data_cab.Survived==0].Cabin.value_counts())\n",
    "print(\"\\nSurvived\")\n",
    "print(Data_cab[Data_cab.Survived==1].Cabin.value_counts())"
   ]
  },
  {
   "cell_type": "code",
   "execution_count": 35,
   "id": "1294a153-357c-44a9-88c2-72926d7d37ed",
   "metadata": {},
   "outputs": [
    {
     "data": {
      "text/plain": [
       "<matplotlib.legend.Legend at 0x7f54f2545208>"
      ]
     },
     "execution_count": 35,
     "metadata": {},
     "output_type": "execute_result"
    },
    {
     "data": {
      "image/png": "[encoded data removed]",
      "text/plain": [
       "<Figure size 432x288 with 1 Axes>"
      ]
     },
     "metadata": {
      "needs_background": "light"
     },
     "output_type": "display_data"
    }
   ],
   "source": [
    "#Plot\n",
    "Data_cab.Cabin.replace([\"A\",\"B\",\"C\",\"D\",\"E\",\"F\",\"G\",\"T\"],[1,2,3,4,5,6,7,0],inplace=True)\n",
    "sn.countplot(data=Data_cab, x=\"Cabin\", hue=\"Survived\")\n",
    "plt.legend([\"Deceased\",\"Survived\"],loc=\"upper left\")"
   ]
  },
  {
   "cell_type": "markdown",
   "id": "b7f4bda9-d887-4462-90cf-2abe68e0d78d",
   "metadata": {},
   "source": [
    ".\n",
    "\n",
    "It seems that the deeper the cabin, the smaller the chance to survive.\n",
    "\n",
    "However, one thing must be taken into account: the number of passengers in third class (decks E-F-G) is larger than the number of passengers in the first and second class.\n",
    "\n",
    "Let's normalize each number by the number of people in each deck."
   ]
  },
  {
   "cell_type": "code",
   "execution_count": 36,
   "id": "9bdef7c7-8e09-4bfc-bac8-9b3dd5e49ab5",
   "metadata": {},
   "outputs": [
    {
     "name": "stdout",
     "output_type": "stream",
     "text": [
      "Percentage of deceased people in deck 0: 100.00 % (Number of people: 1)\n",
      "Percentage of deceased people in deck 1: 50.00 % (Number of people: 22)\n",
      "Percentage of deceased people in deck 2: 29.63 % (Number of people: 81)\n",
      "Percentage of deceased people in deck 3: 39.22 % (Number of people: 102)\n",
      "Percentage of deceased people in deck 4: 45.11 % (Number of people: 133)\n",
      "Percentage of deceased people in deck 5: 64.75 % (Number of people: 400)\n",
      "Percentage of deceased people in deck 6: 70.76 % (Number of people: 342)\n",
      "Percentage of deceased people in deck 7: 75.44 % (Number of people: 228)\n"
     ]
    }
   ],
   "source": [
    "#Normalization\n",
    "for i in np.sort(Data_cab.Cabin.unique()) :\n",
    "    print(\"Percentage of deceased people in deck {}: {:.2f} % (Number of people: {})\".format(i, \n",
    "                                                                                             100*((Data_cab[Data_cab.Survived==0].Cabin==i).sum())/(Data_cab.Cabin==i).sum(),\n",
    "                                                                                             (Data_cab.Cabin==i).sum()))"
   ]
  },
  {
   "cell_type": "markdown",
   "id": "614de467-7ab0-40b4-82c0-00a87ec93039",
   "metadata": {},
   "source": [
    ".\n",
    "\n",
    "Despite the largepercentage for decks T and A (only 23 people), for the other decks, the percentage of deceased people increases going deeper into the ship (from deck B to G)."
   ]
  }
 ],
 "metadata": {
  "kernelspec": {
   "display_name": "Python 3 (ipykernel)",
   "language": "python",
   "name": "python3"
  },
  "language_info": {
   "codemirror_mode": {
    "name": "ipython",
    "version": 3
   },
   "file_extension": ".py",
   "mimetype": "text/x-python",
   "name": "python",
   "nbconvert_exporter": "python",
   "pygments_lexer": "ipython3",
   "version": "3.7.3"
  }
 },
 "nbformat": 4,
 "nbformat_minor": 5
}
